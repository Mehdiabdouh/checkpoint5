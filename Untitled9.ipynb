{
 "cells": [
  {
   "cell_type": "code",
   "execution_count": 10,
   "id": "0a971a64",
   "metadata": {},
   "outputs": [],
   "source": [
    "import numpy as np\n",
    "A=np.random.randint(0,256,size=(3,6))\n",
    "B=np.random.randint(0,256,size=(3,6))\n",
    "def to_list(A):\n",
    "    if len(A.shape) > 1:\n",
    "        return [to_list(x)for x in A]\n",
    "    return[x for x in A]"
   ]
  },
  {
   "cell_type": "code",
   "execution_count": 11,
   "id": "e69a758c",
   "metadata": {},
   "outputs": [
    {
     "data": {
      "text/plain": [
       "[[136, 72, 160, 124, 1, 170],\n",
       " [45, 204, 48, 128, 212, 82],\n",
       " [27, 56, 250, 100, 95, 31]]"
      ]
     },
     "execution_count": 11,
     "metadata": {},
     "output_type": "execute_result"
    }
   ],
   "source": [
    "to_list(A)"
   ]
  },
  {
   "cell_type": "code",
   "execution_count": 12,
   "id": "a27fb3ab",
   "metadata": {},
   "outputs": [],
   "source": [
    "def diagonale(A):\n",
    "    c=min(A.shape)\n",
    "    s=0\n",
    "    for i in range (c):\n",
    "        s=s+A[i, i]\n",
    "        return s"
   ]
  },
  {
   "cell_type": "code",
   "execution_count": 14,
   "id": "723d4ba6",
   "metadata": {},
   "outputs": [
    {
     "data": {
      "text/plain": [
       "590"
      ]
     },
     "execution_count": 14,
     "metadata": {},
     "output_type": "execute_result"
    }
   ],
   "source": [
    "A.diagonal()\n",
    "A.trace()"
   ]
  },
  {
   "cell_type": "code",
   "execution_count": 18,
   "id": "add2583d",
   "metadata": {},
   "outputs": [
    {
     "data": {
      "text/plain": [
       "[136, 160, 124, 170, 204, 128, 212, 250]"
      ]
     },
     "execution_count": 18,
     "metadata": {},
     "output_type": "execute_result"
    }
   ],
   "source": [
    "def greater(A, x):\n",
    "    return A[A> x].tolist()\n",
    "greater(A,100)"
   ]
  },
  {
   "cell_type": "code",
   "execution_count": null,
   "id": "7d5ce5b0",
   "metadata": {},
   "outputs": [],
   "source": []
  }
 ],
 "metadata": {
  "kernelspec": {
   "display_name": "Python 3",
   "language": "python",
   "name": "python3"
  },
  "language_info": {
   "codemirror_mode": {
    "name": "ipython",
    "version": 3
   },
   "file_extension": ".py",
   "mimetype": "text/x-python",
   "name": "python",
   "nbconvert_exporter": "python",
   "pygments_lexer": "ipython3",
   "version": "3.8.8"
  }
 },
 "nbformat": 4,
 "nbformat_minor": 5
}
